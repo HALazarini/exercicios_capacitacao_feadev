{
 "cells": [
  {
   "cell_type": "markdown",
   "metadata": {
    "id": "UAEy4Agk-yiU"
   },
   "source": [
    "0. Importe as bibliotecas necessárias"
   ]
  },
  {
   "cell_type": "code",
   "execution_count": 2,
   "metadata": {
    "executionInfo": {
     "elapsed": 6,
     "status": "ok",
     "timestamp": 1630892254245,
     "user": {
      "displayName": "Douglas da Silva Cardoso",
      "photoUrl": "https://lh3.googleusercontent.com/a-/AOh14GgOrif6VblLeboQDcSTAeoxszYPRn5V1bHJm7Oe8g=s64",
      "userId": "06270621460978465746"
     },
     "user_tz": 180
    },
    "id": "Nz4DLp-b-3CY"
   },
   "outputs": [],
   "source": [
    "import pandas as pd\n",
    "import numpy as np"
   ]
  },
  {
   "cell_type": "markdown",
   "metadata": {
    "id": "VrPZY2hh6LHV"
   },
   "source": [
    "1. Importe os dados sobre os penguins, que se encontra no link abaixo.\n",
    "\n",
    "https://raw.githubusercontent.com/mwaskom/seaborn-data/master/penguins.csv"
   ]
  },
  {
   "cell_type": "code",
   "execution_count": 5,
   "metadata": {
    "executionInfo": {
     "elapsed": 4,
     "status": "ok",
     "timestamp": 1630892256279,
     "user": {
      "displayName": "Douglas da Silva Cardoso",
      "photoUrl": "https://lh3.googleusercontent.com/a-/AOh14GgOrif6VblLeboQDcSTAeoxszYPRn5V1bHJm7Oe8g=s64",
      "userId": "06270621460978465746"
     },
     "user_tz": 180
    },
    "id": "7vouJCaL-3qk"
   },
   "outputs": [],
   "source": [
    "p = pd.read_csv('https://raw.githubusercontent.com/mwaskom/seaborn-data/master/penguins.csv')"
   ]
  },
  {
   "cell_type": "markdown",
   "metadata": {
    "id": "tzaOnGME6WGd"
   },
   "source": [
    "2. Mude o nome de todas as colunas para o inglês"
   ]
  },
  {
   "cell_type": "code",
   "execution_count": 6,
   "metadata": {
    "id": "_ddf37F1-4F7"
   },
   "outputs": [
    {
     "name": "stdout",
     "output_type": "stream",
     "text": [
      "  species     island  bill_length_mm  bill_depth_mm  flipper_length_mm  \\\n",
      "0  Adelie  Torgersen            39.1           18.7              181.0   \n",
      "1  Adelie  Torgersen            39.5           17.4              186.0   \n",
      "2  Adelie  Torgersen            40.3           18.0              195.0   \n",
      "3  Adelie  Torgersen             NaN            NaN                NaN   \n",
      "4  Adelie  Torgersen            36.7           19.3              193.0   \n",
      "\n",
      "   body_mass_g     sex  \n",
      "0       3750.0    MALE  \n",
      "1       3800.0  FEMALE  \n",
      "2       3250.0  FEMALE  \n",
      "3          NaN     NaN  \n",
      "4       3450.0  FEMALE  \n",
      "As colunas já estão em inglês. Mudarei os nomes para o português.\n",
      "  especies       ilha  tamanho_bico_mm  profundidade_bico_mm  \\\n",
      "0   Adelie  Torgersen             39.1                  18.7   \n",
      "1   Adelie  Torgersen             39.5                  17.4   \n",
      "2   Adelie  Torgersen             40.3                  18.0   \n",
      "3   Adelie  Torgersen              NaN                   NaN   \n",
      "4   Adelie  Torgersen             36.7                  19.3   \n",
      "\n",
      "   comprimento_nadadeira_mm  massa_corporal_g    sexo  \n",
      "0                     181.0            3750.0    MALE  \n",
      "1                     186.0            3800.0  FEMALE  \n",
      "2                     195.0            3250.0  FEMALE  \n",
      "3                       NaN               NaN     NaN  \n",
      "4                     193.0            3450.0  FEMALE  \n"
     ]
    }
   ],
   "source": [
    "print(p.head())\n",
    "print(\"As colunas já estão em inglês. Mudarei os nomes para o português.\")\n",
    "p.rename(columns = {'species':'especies', 'island':'ilha'}, inplace = True)\n",
    "p.rename(columns = {'bill_length_mm':'tamanho_bico_mm', 'bill_depth_mm':'profundidade_bico_mm'}, inplace = True)\n",
    "p.rename(columns = {'flipper_length_mm':'comprimento_nadadeira_mm', 'body_mass_g':'massa_corporal_g'}, inplace = True)\n",
    "p.rename(columns = {'sex':'sexo'}, inplace = True)\n",
    "print(p.head())"
   ]
  },
  {
   "cell_type": "markdown",
   "metadata": {
    "id": "wKooYLwc6n4O"
   },
   "source": [
    "3. Mude os elementos da coluna `sex` (\"MALE\" e \"FEMALE\") para português (\"MASCULINO\" e \"FEMININO\") "
   ]
  },
  {
   "cell_type": "code",
   "execution_count": 11,
   "metadata": {
    "id": "QG56C7la-4g0"
   },
   "outputs": [
    {
     "name": "stdout",
     "output_type": "stream",
     "text": [
      "  especies       ilha  tamanho_bico_mm  profundidade_bico_mm  \\\n",
      "0   Adelie  Torgersen             39.1                  18.7   \n",
      "1   Adelie  Torgersen             39.5                  17.4   \n",
      "2   Adelie  Torgersen             40.3                  18.0   \n",
      "3   Adelie  Torgersen              NaN                   NaN   \n",
      "4   Adelie  Torgersen             36.7                  19.3   \n",
      "\n",
      "   comprimento_nadadeira_mm  massa_corporal_g       sexo  \n",
      "0                     181.0            3750.0  MASCULINO  \n",
      "1                     186.0            3800.0   FEMININO  \n",
      "2                     195.0            3250.0   FEMININO  \n",
      "3                       NaN               NaN        NaN  \n",
      "4                     193.0            3450.0   FEMININO  \n"
     ]
    }
   ],
   "source": [
    "p['sexo'].replace(['MALE', 'FEMALE'], ['MASCULINO', 'FEMININO'], inplace=True)\n",
    "print(p.head())"
   ]
  },
  {
   "cell_type": "markdown",
   "metadata": {
    "id": "S8goPDny7QuK"
   },
   "source": [
    "4. Crie uma coluna com o quadrado do peso chamada `quadpeso`"
   ]
  },
  {
   "cell_type": "code",
   "execution_count": 13,
   "metadata": {
    "colab": {
     "base_uri": "https://localhost:8080/",
     "height": 424
    },
    "executionInfo": {
     "elapsed": 256,
     "status": "ok",
     "timestamp": 1630892354613,
     "user": {
      "displayName": "Douglas da Silva Cardoso",
      "photoUrl": "https://lh3.googleusercontent.com/a-/AOh14GgOrif6VblLeboQDcSTAeoxszYPRn5V1bHJm7Oe8g=s64",
      "userId": "06270621460978465746"
     },
     "user_tz": 180
    },
    "id": "TSGu7qXW-426",
    "outputId": "621dc0be-0ea8-4e5f-c1bb-c865d2aea03a"
   },
   "outputs": [],
   "source": [
    "p['quadpeso'] = p[['tamanho_bico_mm']]**2"
   ]
  },
  {
   "cell_type": "markdown",
   "metadata": {
    "id": "LNY_KQ7965IO"
   },
   "source": [
    "5. Crie uma coluna chamada `acima_da_media`, que contenha valores booleanos, `True` caso o pinguin esteja com o peso acima da média e `False` caso o pinguin esteja com o peso na média ou abaixo da média. "
   ]
  },
  {
   "cell_type": "code",
   "execution_count": 17,
   "metadata": {
    "id": "MzQ3k70v-5X1"
   },
   "outputs": [
    {
     "name": "stdout",
     "output_type": "stream",
     "text": [
      "0    False\n",
      "1    False\n",
      "2    False\n",
      "3    False\n",
      "4    False\n",
      "Name: acima_da_media, dtype: bool\n"
     ]
    }
   ],
   "source": [
    "peso_medio = p['massa_corporal_g'].mean()\n",
    "p['acima_da_media'] = p['massa_corporal_g'] > peso_medio\n",
    "print(p['acima_da_media'].head())"
   ]
  },
  {
   "cell_type": "markdown",
   "metadata": {
    "id": "CSTCkh_N649G"
   },
   "source": [
    "6. Calcule quantos penguins, por espécie, estão com o peso acima da **média**"
   ]
  },
  {
   "cell_type": "code",
   "execution_count": 19,
   "metadata": {
    "id": "hlPcbk3y-5tK"
   },
   "outputs": [
    {
     "name": "stdout",
     "output_type": "stream",
     "text": [
      "149\n"
     ]
    }
   ],
   "source": [
    "print(p['acima_da_media'].sum())"
   ]
  },
  {
   "cell_type": "markdown",
   "metadata": {
    "id": "y6RPcxpN7_cT"
   },
   "source": [
    "7. Calcule a média e o desvio-padrão dos pinguins, por sexo e por ilha. Depois, jogue fora as linhas que são NaN"
   ]
  },
  {
   "cell_type": "code",
   "execution_count": 26,
   "metadata": {
    "id": "ltqpVAvn-6EM"
   },
   "outputs": [
    {
     "name": "stdout",
     "output_type": "stream",
     "text": [
      "['Torgersen' 'Biscoe' 'Dream']\n",
      "3706.372549019608\n",
      "445.10794020256765\n",
      "4716.017964071856\n",
      "782.8557428627444\n",
      "3712.9032258064517\n",
      "416.64411163709883\n",
      "3862.2727272727275\n",
      "666.1720495161447\n",
      "4545.684523809524\n",
      "787.6288841581745\n"
     ]
    }
   ],
   "source": [
    "print(p['ilha'].unique())\n",
    "p_torg = p[p[\"ilha\"] == 'Torgersen']\n",
    "print(p_torg['massa_corporal_g'].mean())\n",
    "print(p_torg['massa_corporal_g'].std())\n",
    "p_bisc = p[p[\"ilha\"] == 'Biscoe']\n",
    "print(p_bisc['massa_corporal_g'].mean())\n",
    "print(p_bisc['massa_corporal_g'].std())\n",
    "p_drem = p[p[\"ilha\"] == 'Dream']\n",
    "print(p_drem['massa_corporal_g'].mean())\n",
    "print(p_drem['massa_corporal_g'].std())\n",
    "\n",
    "p_femn = p[p['sexo'] == 'FEMININO']\n",
    "print(p_femn['massa_corporal_g'].mean())\n",
    "print(p_femn['massa_corporal_g'].std())\n",
    "p_masc = p[p['sexo'] == 'MASCULINO']\n",
    "print(p_masc['massa_corporal_g'].mean())\n",
    "print(p_masc['massa_corporal_g'].std())\n",
    "\n",
    "p2 = p.dropna()"
   ]
  },
  {
   "cell_type": "markdown",
   "metadata": {
    "id": "wlq8oM128OA4"
   },
   "source": [
    "8. Encontre os pinguins que estão acima de dois desvio-padrão do peso médio.\n",
    "\n",
    "obs: você precisará filtrar os pinguins que estejam acima de `2 * desvio_padrão + peso_médio`"
   ]
  },
  {
   "cell_type": "code",
   "execution_count": 27,
   "metadata": {
    "id": "D1v-9R_J-6Ux"
   },
   "outputs": [
    {
     "name": "stdout",
     "output_type": "stream",
     "text": [
      "0    False\n",
      "1    False\n",
      "2    False\n",
      "3    False\n",
      "4    False\n",
      "Name: acima_da_media, dtype: bool\n"
     ]
    }
   ],
   "source": [
    "std = p['massa_corporal_g'].std()\n",
    "peso_alto = peso_medio + 2*std\n",
    "p['peso_alto'] = p['massa_corporal_g'] > peso_alto\n",
    "print(p['acima_da_media'].head())"
   ]
  },
  {
   "cell_type": "markdown",
   "metadata": {
    "id": "ZdfFgSCW8mGt"
   },
   "source": [
    "9. Para cada grupo de ilha e espécie, encontre o tamanho de bico mediano e a quantidade de penguins"
   ]
  },
  {
   "cell_type": "code",
   "execution_count": 34,
   "metadata": {
    "id": "Eb0vfVUO-6lC"
   },
   "outputs": [
    {
     "name": "stdout",
     "output_type": "stream",
     "text": [
      "['Adelie' 'Chinstrap' 'Gentoo']\n",
      "38.9\n",
      "52\n",
      "45.8\n",
      "168\n",
      "44.650000000000006\n",
      "124\n",
      "38.8\n",
      "152\n",
      "49.55\n",
      "68\n",
      "47.3\n",
      "124\n"
     ]
    }
   ],
   "source": [
    "print(p['especies'].unique())\n",
    "p_torg = p[p[\"ilha\"] == 'Torgersen']\n",
    "print(p_torg['tamanho_bico_mm'].median())\n",
    "print(p_torg['tamanho_bico_mm'].size)\n",
    "p_bisc = p[p[\"ilha\"] == 'Biscoe']\n",
    "print(p_bisc['tamanho_bico_mm'].median())\n",
    "print(p_bisc['tamanho_bico_mm'].size)\n",
    "p_drem = p[p[\"ilha\"] == 'Dream']\n",
    "print(p_drem['tamanho_bico_mm'].median())\n",
    "print(p_drem['tamanho_bico_mm'].size)\n",
    "\n",
    "p_adel = p[p['especies'] == 'Adelie']\n",
    "print(p_adel['tamanho_bico_mm'].median())\n",
    "print(p_adel['tamanho_bico_mm'].size)\n",
    "p_chin = p[p['especies'] == 'Chinstrap']\n",
    "print(p_chin['tamanho_bico_mm'].median())\n",
    "print(p_chin['tamanho_bico_mm'].size)\n",
    "p_gent = p[p['especies'] == 'Gentoo']\n",
    "print(p_gent['tamanho_bico_mm'].median())\n",
    "print(p_gent['tamanho_bico_mm'].size)"
   ]
  },
  {
   "cell_type": "markdown",
   "metadata": {
    "id": "EXzeJISX8z2u"
   },
   "source": [
    "10. Importe os CSVs abaixo para variáveis:\n",
    "\n",
    "`flights.csv`, `airports.csv`, `planes.csv` e `airlines`"
   ]
  },
  {
   "cell_type": "code",
   "execution_count": 41,
   "metadata": {
    "id": "dJxRw6OE-611"
   },
   "outputs": [],
   "source": [
    "flights = pd.read_csv(r\"C:\\Users\\lazarini\\Documents\\Programas\\Python Scripts\\flights.csv\")\n",
    "airports = pd.read_csv(r\"C:\\Users\\lazarini\\Documents\\Programas\\Python Scripts\\airports.csv\")\n",
    "planes = pd.read_csv(r\"C:\\Users\\lazarini\\Documents\\Programas\\Python Scripts\\planes.csv\")\n",
    "airlines = pd.read_csv(r\"C:\\Users\\lazarini\\Documents\\Programas\\Python Scripts\\airlines.csv\")"
   ]
  },
  {
   "cell_type": "markdown",
   "metadata": {
    "id": "xt044V4z9aL-"
   },
   "source": [
    "11. Faça um `left_join` de flights e planes. Depois, faça a média de atraso (`arr_delay`) por `manufacturer`. Tente arranjar os dados para descobrirmos quais são os que mais atrasam *na média* "
   ]
  },
  {
   "cell_type": "code",
   "execution_count": 73,
   "metadata": {
    "id": "F_utTv_3-7F4"
   },
   "outputs": [
    {
     "name": "stdout",
     "output_type": "stream",
     "text": [
      "[(nan, nan), ('BOEING', 1.5312084993359893), ('EMBRAER', 6.169117647058823), ('BOMBARDIER INC', 13.58435207823961), ('AIRBUS', 0.1235632183908046), ('AIRBUS INDUSTRIE', 20.75)]\n"
     ]
    }
   ],
   "source": [
    "joined=pd.merge(flights,planes, how='left')\n",
    "#print(joined.head())\n",
    "man = joined['manufacturer'].unique()\n",
    "#print(man)\n",
    "arr_delay = []\n",
    "for i in man:\n",
    "    manu = joined[joined['manufacturer'] == i]\n",
    "    arr_delay.append(manu['arr_delay'].mean())\n",
    "#print(arr_delay)\n",
    "delay_man = list(zip(man, arr_delay))\n",
    "print(delay_man)"
   ]
  },
  {
   "cell_type": "markdown",
   "metadata": {
    "id": "LrV_KVDd-HzF"
   },
   "source": [
    "12. Com os dados juntados anteriormente, junte também o dataframe de `airlines`, de acordo com as colunas em comum. Depois, descubra a quantidade de linhas por `origin` e `airlines`"
   ]
  },
  {
   "cell_type": "code",
   "execution_count": 78,
   "metadata": {
    "id": "zHaZ_GC2-7Vd"
   },
   "outputs": [
    {
     "name": "stdout",
     "output_type": "stream",
     "text": [
      "   year  month  day  dep_time  sched_dep_time  dep_delay  arr_time  \\\n",
      "0  2013      1    1     517.0             515        2.0     830.0   \n",
      "1  2013      1    1     533.0             529        4.0     850.0   \n",
      "2  2013      1    1     542.0             540        2.0     923.0   \n",
      "3  2013      1    1     544.0             545       -1.0    1004.0   \n",
      "4  2013      1    1     554.0             600       -6.0     812.0   \n",
      "\n",
      "   sched_arr_time  arr_delay carrier  ...  minute             time_hour type  \\\n",
      "0             819       11.0      UA  ...      15  2013-01-01T10:00:00Z  NaN   \n",
      "1             830       20.0      UA  ...      29  2013-01-01T10:00:00Z  NaN   \n",
      "2             850       33.0      AA  ...      40  2013-01-01T10:00:00Z  NaN   \n",
      "3            1022      -18.0      B6  ...      45  2013-01-01T10:00:00Z  NaN   \n",
      "4             837      -25.0      DL  ...       0  2013-01-01T11:00:00Z  NaN   \n",
      "\n",
      "  manufacturer  model  engines  seats  speed engine                    name  \n",
      "0          NaN    NaN      NaN    NaN    NaN    NaN   United Air Lines Inc.  \n",
      "1          NaN    NaN      NaN    NaN    NaN    NaN   United Air Lines Inc.  \n",
      "2          NaN    NaN      NaN    NaN    NaN    NaN  American Airlines Inc.  \n",
      "3          NaN    NaN      NaN    NaN    NaN    NaN         JetBlue Airways  \n",
      "4          NaN    NaN      NaN    NaN    NaN    NaN    Delta Air Lines Inc.  \n",
      "\n",
      "[5 rows x 27 columns]\n",
      "336776\n"
     ]
    }
   ],
   "source": [
    "joined2=pd.merge(joined,airlines, how='left')\n",
    "print(joined2.head())\n",
    "print(joined2['origin'].size)"
   ]
  },
  {
   "cell_type": "markdown",
   "metadata": {
    "id": "d7Ty7OwP-kIb"
   },
   "source": [
    "13. Fique a vontade para brincar com os dados, qualquer dúvida fale com o seu tutor. Fique à vontade de levar sua tentativa de novos arranjos e dúvidas sobre os exercícios para a monitoria."
   ]
  },
  {
   "cell_type": "code",
   "execution_count": null,
   "metadata": {
    "id": "hkifMvvz-7p7"
   },
   "outputs": [],
   "source": []
  }
 ],
 "metadata": {
  "colab": {
   "collapsed_sections": [],
   "name": "Lista_de_exercícios_Pandas_2.ipynb",
   "provenance": []
  },
  "kernelspec": {
   "display_name": "Python 3 (ipykernel)",
   "language": "python",
   "name": "python3"
  },
  "language_info": {
   "codemirror_mode": {
    "name": "ipython",
    "version": 3
   },
   "file_extension": ".py",
   "mimetype": "text/x-python",
   "name": "python",
   "nbconvert_exporter": "python",
   "pygments_lexer": "ipython3",
   "version": "3.9.12"
  }
 },
 "nbformat": 4,
 "nbformat_minor": 1
}
